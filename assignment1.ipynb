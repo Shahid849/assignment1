{
 "cells": [
  {
   "cell_type": "markdown",
   "id": "bda873dd-4956-45f5-9c9b-3a26fb6351a8",
   "metadata": {},
   "source": [
    "Q1. In the below elements which of them are values or an expression? eg:- values can be\n",
    "integer or string and expressions will be mathematical operators.\n",
    "*\n",
    "'hello'\n",
    "-87.8\n",
    "-\n",
    "/\n",
    "+\n",
    "6"
   ]
  },
  {
   "cell_type": "markdown",
   "id": "3164e872-860a-42f5-8d75-72d8cfb5b0cf",
   "metadata": {},
   "source": [
    "Ans: * is an expression as it is an arthematic operator.\n",
    "'hello' is a value as it is a string.\n",
    "-87.8 is a value as it is a floating point.\n",
    "-is a expression as it is an arthematic operator.\n",
    "/ is an expression as it isa an arthematic operator.\n",
    "+is an expression as it is an arthematic operator.\n",
    "6 is a value as it is an integer."
   ]
  },
  {
   "cell_type": "raw",
   "id": "b52ba04a-53f4-49ad-8ca3-dadbf5aa8381",
   "metadata": {},
   "source": [
    "2. What is the difference between string and variable?"
   ]
  },
  {
   "cell_type": "raw",
   "id": "3e347900-4661-4805-b50d-6330b6fc0ce2",
   "metadata": {},
   "source": [
    "Ans: string is the sequence of characters,a string is closed in single or double quotes  WHILE AS\n",
    "    variable is a name of the memory location where any datatype can be stored."
   ]
  },
  {
   "cell_type": "raw",
   "id": "d56d2dec-0e33-420f-8b07-6d54661887c3",
   "metadata": {},
   "source": [
    "3. Describe three different data types."
   ]
  },
  {
   "cell_type": "raw",
   "id": "a4c1f0e5-7dd2-4546-a63a-a2c47905491c",
   "metadata": {},
   "source": [
    "Ans:int  is datatype in python that is used to store the integer(1,2,3,...) data.\n",
    "    float is another datatype in python that is used to store the fractional numbers(1.5,3.6...)\n",
    "    str is another data type in python that is used to store teh character data(\"hello world\")"
   ]
  },
  {
   "cell_type": "raw",
   "id": "9e9fe031-f44c-423b-be17-aa33759b06b0",
   "metadata": {},
   "source": [
    "4. What is an expression made up of? What do all expressions do?"
   ]
  },
  {
   "cell_type": "raw",
   "id": "7c035506-0162-447c-83e1-7e504d9430c0",
   "metadata": {},
   "source": [
    "Ans: An expression is made by combinging operators, variables, literals etc.\n",
    "expressions are used to produce a value by operaing according to the precedence of the operators."
   ]
  },
  {
   "cell_type": "raw",
   "id": "1567ce5b-01d7-4e81-bd2e-80be06188dc9",
   "metadata": {},
   "source": [
    "5. This assignment statements, like spam = 10. What is the difference between an\n",
    "expression and a statement?"
   ]
  },
  {
   "cell_type": "raw",
   "id": "64ccf403-6ff2-4fff-9ed6-6e72bdc048cb",
   "metadata": {},
   "source": [
    "Ans: An expression is the part of the code on which the operation is done to produce a result while as \n",
    "the statemnt is not operated to produce some value rather used to create variable to display values.\n",
    "e.g like in here spam=10 is an statement as no operation is done on this\n",
    "if we write like   spam=10\n",
    "                   inbox=spam/2\n",
    "               now here spam/2 is an expression as an arthematic operation  is going to be done to get the result"
   ]
  },
  {
   "cell_type": "raw",
   "id": "b54ce073-ad9d-4b7e-a7d7-12644abb909d",
   "metadata": {},
   "source": [
    "6. After running the following code, what does the variable bacon contain?\n",
    "bacon = 22\n",
    "bacon + 1\n"
   ]
  },
  {
   "cell_type": "raw",
   "id": "a167d133-809c-4de9-a3d9-c17b82953527",
   "metadata": {},
   "source": [
    "Ans: The variable bacon will still contain the 22 as we don't assign the 1(bacon +=1) to the bacon "
   ]
  },
  {
   "cell_type": "raw",
   "id": "13e73b1b-e659-481a-8274-2fa66b75f8b6",
   "metadata": {},
   "source": [
    " 7. What should the values of the following two terms be?\n",
    "\"spam\" + \"spamspam\"\n",
    "\"spam\"*3"
   ]
  },
  {
   "cell_type": "raw",
   "id": "f4c5ddf9-3bfa-4b3e-a220-ab271829abbd",
   "metadata": {},
   "source": [
    "Ans:Both strings will give the value of 'spamspamspam'"
   ]
  },
  {
   "cell_type": "raw",
   "id": "c4d44e45-96ab-4130-be75-7010fc08bf91",
   "metadata": {},
   "source": [
    "8. Why is eggs a valid variable name while 100 is invalid?"
   ]
  },
  {
   "cell_type": "raw",
   "id": "887d4576-b569-4ec8-8581-3303740f1a14",
   "metadata": {},
   "source": [
    "Ans:eggs is a valid variable name because a variable name can start with a letter,_, \n",
    "    While as  100 starts with 1 and a variable can't start with a digit"
   ]
  },
  {
   "cell_type": "raw",
   "id": "1cf3c08c-d947-45cd-a7f9-0d5e8fabf407",
   "metadata": {},
   "source": [
    "What three functions can be used to get the integer, floating-point number, or string\n",
    "version of a value?"
   ]
  },
  {
   "cell_type": "raw",
   "id": "92c11b7e-aef4-4289-a4a1-1d2c0b186fe0",
   "metadata": {},
   "source": [
    "Ans:For integer we use int(), for floating-point we use (float) and for string we use str() functions "
   ]
  },
  {
   "cell_type": "raw",
   "id": "844571c5-7495-43d1-a49b-90df5a50e2af",
   "metadata": {},
   "source": [
    "10. Why does this expression cause an error? How can you fix it?\n",
    "'I have eaten'  + 99 + 'burritos'"
   ]
  },
  {
   "cell_type": "raw",
   "id": "1043eb38-0919-426b-b082-c9082c92a979",
   "metadata": {},
   "source": [
    "Ans: This expression causes eror because we can cancatante two string but not integers\n",
    "    Here if we declare 99 string by placing 99 in quotes or by using str(99) functions then only it will run and print \n",
    "    I have eaten 99 burritos"
   ]
  }
 ],
 "metadata": {
  "kernelspec": {
   "display_name": "Python 3 (ipykernel)",
   "language": "python",
   "name": "python3"
  },
  "language_info": {
   "codemirror_mode": {
    "name": "ipython",
    "version": 3
   },
   "file_extension": ".py",
   "mimetype": "text/x-python",
   "name": "python",
   "nbconvert_exporter": "python",
   "pygments_lexer": "ipython3",
   "version": "3.10.6"
  }
 },
 "nbformat": 4,
 "nbformat_minor": 5
}
